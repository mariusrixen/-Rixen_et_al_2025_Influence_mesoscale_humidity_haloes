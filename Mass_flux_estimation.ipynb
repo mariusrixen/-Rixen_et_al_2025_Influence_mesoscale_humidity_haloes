{
 "cells": [
  {
   "cell_type": "code",
   "execution_count": 4,
   "id": "d57ebfde-18b8-42a6-832b-8972fdc61102",
   "metadata": {},
   "outputs": [],
   "source": [
    "import intake\n",
    "import os\n",
    "import numpy as np\n",
    "import xarray as xr\n",
    "import pandas as pd\n",
    "import matplotlib.pyplot as plt\n",
    "import matplotlib.gridspec as gridspec\n",
    "import seaborn as sns\n",
    "from matplotlib.dates import date2num\n",
    "from scipy import interpolate, stats, ndimage\n",
    "from scipy.stats import ttest_ind, chi2_contingency\n",
    "import glob\n",
    "from mpl_toolkits.axes_grid1.inset_locator import inset_axes\n",
    "import matplotlib.gridspec as gridspec\n",
    "import eurec4a\n",
    "cat_eurec4a = eurec4a.get_intake_catalog()"
   ]
  },
  {
   "cell_type": "markdown",
   "id": "95165781-38be-47e6-aaed-bb3373989f90",
   "metadata": {},
   "source": [
    "this code aims to estimate the typical moisture that is advected by a typical updraft, and compare it to en estimation of the detrained air from a cloud:"
   ]
  },
  {
   "cell_type": "markdown",
   "id": "9909227a-f4ff-4013-9b64-e59eed12cdba",
   "metadata": {},
   "source": [
    "## Load data"
   ]
  },
  {
   "cell_type": "code",
   "execution_count": 5,
   "id": "c5eff173-19ba-4a95-8a00-b221eb820cc8",
   "metadata": {},
   "outputs": [],
   "source": [
    "def load_and_concatenate_xarrays(dir1, dir2, pattern='*.nc'):\n",
    "    \"\"\"\n",
    "    Load and concatenate xarray datasets from two directories along the time dimension.\n",
    "\n",
    "    Parameters:\n",
    "    - dir1 (str): The first directory path.\n",
    "    - dir2 (str): The second directory path.\n",
    "    - pattern (str): File pattern to match, default is '*.nc' for netCDF files.\n",
    "\n",
    "    Returns:\n",
    "    - xr.Dataset: A single xarray dataset concatenated along the time dimension.\n",
    "    \"\"\"\n",
    "    # Get all file paths matching the pattern in both directories\n",
    "    files_dir1 = sorted([os.path.join(dir1, f) for f in os.listdir(dir1) if f.endswith('.nc')])\n",
    "    files_dir2 = sorted([os.path.join(dir2, f) for f in os.listdir(dir2) if f.endswith('.nc')])\n",
    "    \n",
    "    # Combine file lists\n",
    "    all_files = files_dir1 + files_dir2\n",
    "    \n",
    "    # Open and concatenate all files along the time dimension\n",
    "    ds_combined = xr.open_mfdataset(all_files, combine='nested', concat_dim='time', parallel=True)\n",
    "    \n",
    "    return ds_combined"
   ]
  },
  {
   "cell_type": "code",
   "execution_count": 7,
   "id": "aac39ef7-c031-493a-bab5-77a784a7c9e4",
   "metadata": {},
   "outputs": [],
   "source": [
    "dir1 = '/pool/data/OBS/BARBADOS_CLOUD_OBSERVATORY/Level_1/L_Vertical_velocity/WBAND_LIDAR/202001/'\n",
    "dir2 = '/pool/data/OBS/BARBADOS_CLOUD_OBSERVATORY/Level_1/L_Vertical_velocity/WBAND_LIDAR/202002/'\n",
    "\n",
    "# we get the vertical velocities from the directory with the data\n",
    "w_band_doppler = load_and_concatenate_xarrays(dir1, dir2)"
   ]
  },
  {
   "cell_type": "markdown",
   "id": "82003d80-fccb-4462-ab98-f5b176b8ec7a",
   "metadata": {},
   "source": [
    "## Find the typical vertical wind velocity"
   ]
  },
  {
   "cell_type": "code",
   "execution_count": 8,
   "id": "88aad06c-cc4c-4629-b326-0fa07e8f4af2",
   "metadata": {},
   "outputs": [],
   "source": [
    "#\n",
    "start_time = np.datetime64('2020-01-12T00:30:00')\n",
    "end_time   = np.datetime64('2020-12-29T23:59:00')\n",
    "\n",
    "# Ensure time index is sorted in ascending order\n",
    "if not np.all(w_band_doppler.time.values[1:] > w_band_doppler.time.values[:-1]):\n",
    "    w_band_doppler = w_band_doppler.sortby('time')\n",
    "\n",
    "w_doppler_selected = w_band_doppler.sel(time=slice(start_time, end_time))\n",
    "w_doppler = w_doppler_selected.dv_corr"
   ]
  },
  {
   "cell_type": "code",
   "execution_count": 5,
   "id": "f1c82383-71db-4a0c-821b-8457880c3b38",
   "metadata": {},
   "outputs": [],
   "source": [
    "clouds = np.loadtxt('./data/processed_data/cloud_borders_2020.txt', delimiter=',', dtype='object')\n",
    "clouds[:, 0] = np.array(clouds[:, 0], dtype='datetime64[s]')\n",
    "clouds[:, 1] = np.array(clouds[:, 1], dtype='datetime64[s]')\n",
    "clouds[:, 2] = np.array(clouds[:, 2], dtype='float64')\n",
    "clouds[:, 3] = np.array(clouds[:, 3], dtype='float64')\n",
    "clouds[:, 4] = np.array(clouds[:, 4], dtype='float64')\n",
    "clouds[:, 5] = np.array(clouds[:, 5], dtype='float64')\n",
    "clouds_time = clouds[(clouds[:, 0] >= start_time) & (clouds[:, 0] <= end_time)]\n",
    "clouds_shallow = clouds_time[(clouds_time[:,2] >= 40) & (clouds_time[:,3] <= 1500) & (clouds_time[:,2] <= 1000) & ((clouds_time[:,4] - clouds_time[:,3]) >= 100) & ((clouds_time[:,4] - clouds_time[:,3]) <= 700)]"
   ]
  },
  {
   "cell_type": "code",
   "execution_count": 6,
   "id": "f6cb2d4b-b595-4a21-8975-7fbe526b40dc",
   "metadata": {},
   "outputs": [],
   "source": [
    "def composite_w(w, clouds, altitude_min, altitude_max):\n",
    "    #w should be a time serie f the vertical wind\n",
    "    #clouds is an array of the clouds that I take in consideration\n",
    "    delta_time = np.timedelta64(20, 'm')\n",
    "    clouds = clouds[(clouds[:, 3] >= altitude_min) & (clouds[:, 3] <= altitude_max)]\n",
    "    clouds = clouds[(clouds[:, 2] >= 200)]\n",
    "    w_cloud_list = []\n",
    "    \n",
    "    for cloud, cloud_times in enumerate(clouds):\n",
    "        cloud_base = cloud_times[3]\n",
    "        start_time = np.datetime64(cloud_times[0])\n",
    "        end_time = np.datetime64(cloud_times[1])\n",
    "        \n",
    "        \n",
    "        w_cloud = w.sel(time = slice(start_time, end_time)).sel(range = slice(cloud_base-200,cloud_base))\n",
    "        \n",
    "        \n",
    "        w_cloud['range'] = (w_cloud.range - w_cloud.range.max())\n",
    "        \n",
    "        try: \n",
    "            scaled_time = (w_cloud.time - w_cloud.time.min()) / (w_cloud.time.max() - w_cloud.time.min())\n",
    "            #print(type(scaled_time.values[0]))\n",
    "            # Interpolate the data onto the scaled time axis\n",
    "            \n",
    "            w_cloud['time'] = scaled_time\n",
    "            new_time = np.linspace(0,1,100)\n",
    "            w_cloud_interp = w_cloud.interp(time=new_time)\n",
    "            \n",
    "            w_cloud_list.append(w_cloud_interp)\n",
    "            \n",
    "        except:\n",
    "            continue\n",
    "    w_cloud_concat = xr.concat(w_cloud_list, dim='cloud')\n",
    "        \n",
    "    return w_cloud_concat"
   ]
  },
  {
   "cell_type": "code",
   "execution_count": 7,
   "id": "81e7ec3a-fa7c-431c-b62a-5030a3bb1e3d",
   "metadata": {},
   "outputs": [],
   "source": [
    "altitude_min = 600\n",
    "altitude_max = 1000\n",
    "w_composite = composite_w(w_doppler, clouds_time, altitude_min, altitude_max).load()"
   ]
  },
  {
   "cell_type": "code",
   "execution_count": 8,
   "id": "e665e41b-570d-4133-ad26-02c0b9407330",
   "metadata": {},
   "outputs": [],
   "source": [
    "def plot_hist_quantile(xarray, bins):\n",
    "    xarray_flat = xarray.values.flatten()\n",
    "\n",
    "    # Remove NaN values for histogram and percentile calculation\n",
    "    xarray_flat = xarray_flat[~np.isnan(xarray_flat)]\n",
    "\n",
    "    plt.figure(figsize=(5,5))\n",
    "    # Plot the histogram\n",
    "    hist_data = plt.hist(xarray_flat, bins=bins, edgecolor='black')\n",
    "    #plt.show()\n",
    "\n",
    "    # Calculate the 90th percentile\n",
    "    percentile_90 = np.percentile(xarray_flat, 90)\n",
    "\n",
    "    # Calculate the mean of values greater than or equal to the 90th percentile\n",
    "    mean_90th_percentile = np.mean(xarray_flat[xarray_flat >= percentile_90])\n",
    "\n",
    "    print(\"Mean value of the top 10% values (90th percentile and above):\", mean_90th_percentile)\n",
    "\n",
    "    return mean_90th_percentile, hist_data"
   ]
  },
  {
   "cell_type": "code",
   "execution_count": 9,
   "id": "ab540471-669d-405f-b285-42080c573655",
   "metadata": {},
   "outputs": [
    {
     "name": "stdout",
     "output_type": "stream",
     "text": [
      "Mean value of the top 10% values (90th percentile and above): 2.8818784111923677\n"
     ]
    },
    {
     "data": {
      "image/png": "[encoded data removed]",
      "text/plain": [
       "<Figure size 500x500 with 1 Axes>"
      ]
     },
     "metadata": {},
     "output_type": "display_data"
    }
   ],
   "source": [
    "quantile_w, hist_data_w = plot_hist_quantile(w_composite, bins = 60)"
   ]
  },
  {
   "cell_type": "markdown",
   "id": "4ac94e54-331b-4736-b755-bb5659ade46e",
   "metadata": {},
   "source": [
    "## Repeat the same for specific humidity"
   ]
  },
  {
   "cell_type": "code",
   "execution_count": 10,
   "id": "e0fa1fb2-dc3e-4102-bbe0-b8ce1c6e253d",
   "metadata": {},
   "outputs": [],
   "source": [
    "ds_met = cat_eurec4a.barbados.bco.meteorology.to_dask().sel(time=slice(start_time, end_time))"
   ]
  },
  {
   "cell_type": "code",
   "execution_count": 11,
   "id": "e0270f46-fb1e-47ef-a2d5-1550aa4af671",
   "metadata": {},
   "outputs": [],
   "source": [
    "def specific_humidity(temperature, pressure, relative_humidity):\n",
    "    \n",
    "    # Calculate the saturation vapor pressure (es) in hPa\n",
    "    es = 6.1078 * np.exp((17.27 * temperature) / (temperature + 237.29))\n",
    "    \n",
    "    # Calculate the actual vapor pressure (e) in hPa, or partial water vapour pressure\n",
    "    e = relative_humidity * es / 100 #/100 to have the RH between 0 and 1 \n",
    "    \n",
    "    # Calculate the specific humidity (q)\n",
    "    q = 0.622 * e / (pressure - (0.378 * e)) #in kg/kg\n",
    "    \n",
    "    return q"
   ]
  },
  {
   "cell_type": "code",
   "execution_count": 12,
   "id": "0cf6cc61-4483-457b-b61f-f3a1d75e225e",
   "metadata": {},
   "outputs": [],
   "source": [
    "q_BCO = specific_humidity(ds_met.T, ds_met.P, ds_met.RH)"
   ]
  },
  {
   "cell_type": "code",
   "execution_count": 13,
   "id": "babb6202-d2bc-470a-acb1-590e82efca58",
   "metadata": {},
   "outputs": [
    {
     "name": "stdout",
     "output_type": "stream",
     "text": [
      "Mean value of the top 10% values (90th percentile and above): 16.586374\n"
     ]
    },
    {
     "data": {
      "image/png": "[encoded data removed]",
      "text/plain": [
       "<Figure size 500x500 with 1 Axes>"
      ]
     },
     "metadata": {},
     "output_type": "display_data"
    }
   ],
   "source": [
    "quantile_q, hist_data_q = plot_hist_quantile(q_BCO*1000, bins = 22)"
   ]
  },
  {
   "cell_type": "markdown",
   "id": "b1e0c9df-f9f4-4aec-bed8-b7221cb2a248",
   "metadata": {},
   "source": [
    "# Estimate typical updraft and detrained mass"
   ]
  },
  {
   "cell_type": "markdown",
   "id": "ce4fada9-4d17-4b36-a5ae-f049afb19960",
   "metadata": {},
   "source": [
    "Using the mean area of clouds and their depth, we first compute the typical moisture mass flux that is advected"
   ]
  },
  {
   "cell_type": "code",
   "execution_count": 14,
   "id": "e2c7179b-d284-4363-80a2-54bdf845898c",
   "metadata": {},
   "outputs": [],
   "source": [
    "def get_mean_area_clouds(clouds, altitude_min, altitude_max):\n",
    "    #returns the mean area in square meter of clouds\n",
    "\n",
    "    mean_length = np.mean(clouds[:,2])\n",
    "    \n",
    "    mean_surface = np.pi*(mean_length/2)**2\n",
    "    \n",
    "    return mean_surface, mean_length"
   ]
  },
  {
   "cell_type": "code",
   "execution_count": 15,
   "id": "a1c00275-9298-47f2-b087-1f3be1208542",
   "metadata": {},
   "outputs": [],
   "source": [
    "def return_mass_flux(w,q,A,t):\n",
    "    \"\"\"\n",
    "    This takes as input the vertical velocitiy (in m.s-1), \n",
    "    the specific humidity (in kg/kg), \n",
    "    the typical area of a cloud in (m^2)\n",
    "    and the typical lifetime of a cloud (in hours)\n",
    "    \"\"\"\n",
    "    t_sec = t*3600\n",
    "    rho_0 = 1.225 #kg/m^3 air density at sea level\n",
    "    density = rho_0 * np.exp(-800/(8.5*1000)) #8.5km is the scale height of the atmosphere, i.e., vertical distance over which the pressure decreases by a factor of e\n",
    "    mass_flux = w * q * A * t_sec * density\n",
    "    print(f\"{mass_flux:.2e} kg\")\n",
    "    return mass_flux"
   ]
  },
  {
   "cell_type": "code",
   "execution_count": 16,
   "id": "6cc3af97-2879-48ae-8fc0-050f8db92739",
   "metadata": {},
   "outputs": [
    {
     "data": {
      "text/plain": [
       "(203700.53982095994, 509.2735832378761)"
      ]
     },
     "execution_count": 16,
     "metadata": {},
     "output_type": "execute_result"
    }
   ],
   "source": [
    "get_mean_area_clouds(clouds_shallow, altitude_min, altitude_max)"
   ]
  },
  {
   "cell_type": "code",
   "execution_count": 17,
   "id": "ce22bc30-e499-4719-8b48-25ef324e1269",
   "metadata": {},
   "outputs": [
    {
     "name": "stdout",
     "output_type": "stream",
     "text": [
      "3.91e+10 kg\n"
     ]
    }
   ],
   "source": [
    "moisture_mass_flux = return_mass_flux(quantile_w,quantile_q,get_mean_area_clouds(clouds_shallow, altitude_min, altitude_max)[0],1)"
   ]
  },
  {
   "cell_type": "markdown",
   "id": "003a5835-78b8-4f60-839f-c5a80ce4c8a4",
   "metadata": {},
   "source": [
    "Now we can compute the total humidity of the envelope, to estimate how much would have to be detrained to form the observed envelopes"
   ]
  },
  {
   "cell_type": "code",
   "execution_count": 31,
   "id": "d9920e0e-0d23-49b1-a4a4-babebea8d574",
   "metadata": {},
   "outputs": [
    {
     "data": {
      "text/plain": [
       "'1.10e+12 kg'"
      ]
     },
     "execution_count": 31,
     "metadata": {},
     "output_type": "execute_result"
    }
   ],
   "source": [
    "radius_envelope = 9000 #take a lower bound to be sure\n",
    "Vol_envelope_cloud = np.pi* (radius_envelope + get_mean_area_clouds(clouds_shallow, altitude_min, altitude_max)[1]/2)**2*(clouds_shallow[:,4] - clouds_shallow[:,3]).mean()\n",
    "#Vol_envelope = Vol_envelope_cloud - get_mean_area_clouds(clouds_time, altitude_min, altitude_max)[0]* get_mean_area_clouds(clouds_time, altitude_min, altitude_max)[1]\n",
    "\n",
    "rho_0 = 1.225 #kg/m^3 air density at sea level\n",
    "density = rho_0 * np.exp(-800/(8.5*1000)) #8.5km is the scale height of the atmosphere, i.e., vertical distance over which the pressure decreases by a factor of e\n",
    "\n",
    "distances = np.arange(0, radius_envelope, 100)\n",
    "quantile_q_profile = quantile_q #* (distances / radius_envelope) #assume that it decreases with 1/distance\n",
    "\n",
    "total_moisture = Vol_envelope_cloud * np.mean(quantile_q_profile) * density\n",
    "f\"{total_moisture:.2e} kg\""
   ]
  },
  {
   "cell_type": "code",
   "execution_count": 32,
   "id": "309f4e52-8853-46d9-9693-76237879db21",
   "metadata": {},
   "outputs": [
    {
     "data": {
      "text/plain": [
       "'factor between the ratio of envelope moisture and moisture for shallow clouds from the mass flux is 2.81e+01'"
      ]
     },
     "execution_count": 32,
     "metadata": {},
     "output_type": "execute_result"
    }
   ],
   "source": [
    "f\"factor between the ratio of envelope moisture and moisture for shallow clouds from the mass flux is {total_moisture/moisture_mass_flux:.2e}\""
   ]
  },
  {
   "cell_type": "code",
   "execution_count": null,
   "id": "a3c690fc-608b-4719-8cdd-b98898672264",
   "metadata": {},
   "outputs": [],
   "source": []
  }
 ],
 "metadata": {
  "kernelspec": {
   "display_name": "1 Python 3 (based on the module python3/2023.01)",
   "language": "python",
   "name": "python3_2023_01"
  },
  "language_info": {
   "codemirror_mode": {
    "name": "ipython",
    "version": 3
   },
   "file_extension": ".py",
   "mimetype": "text/x-python",
   "name": "python",
   "nbconvert_exporter": "python",
   "pygments_lexer": "ipython3",
   "version": "3.10.10"
  }
 },
 "nbformat": 4,
 "nbformat_minor": 5
}
